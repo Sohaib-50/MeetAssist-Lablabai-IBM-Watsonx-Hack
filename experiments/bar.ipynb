{
 "cells": [
  {
   "cell_type": "code",
   "execution_count": 1,
   "metadata": {},
   "outputs": [],
   "source": [
    "import public_meetings\n"
   ]
  },
  {
   "cell_type": "code",
   "execution_count": 2,
   "metadata": {},
   "outputs": [],
   "source": [
    "meetings = public_meetings.load_meetings()\n",
    "\n",
    "# from docs:\n",
    "# meeting['final']['doc'][i]['text']      # text of the i-th document segment\n",
    "# meeting['final']['doc'][i]['id']        # id of the i-th document segment\n",
    "\n",
    "# meeting['final']['ctm'][j]['text']      # text of the j-th transcription segment\n",
    "# meeting['final']['ctm'][j]['id']        # id of the j-th transcription segment\n",
    "# meeting['final']['ctm'][j]['aligned']   # doc segment id corresponding to the j-th transcription segment"
   ]
  },
  {
   "cell_type": "code",
   "execution_count": 26,
   "metadata": {},
   "outputs": [
    {
     "name": "stdout",
     "output_type": "stream",
     "text": [
      "mesdames et messieurs , bonjour . je vous invite à prendre place . nous allons pouvoir démarrer . on démarre avec un petit quart d' heure de retard . c' est toujours classique , mais on va essayer de rattraper au fur et à mesure . un grand merci à géraldine et à l' équipe de la lettre de m' avoir confié le plaisir de vous accompagner cet après-midi . on va parler de qualité de vie . nous allons parler de bien-être comme un élément d' attractivité par rapport à vos villes , par rapport à l' effet de levier que vous pouvez avoir en matière économique en matière de qualité de vie justement . de très nombreux intervenants vont nous rejoindre . de très nombreux experts . le savoir n' est pas forcément que sur cette estrade . il est aussi dans la salle puisque parmi vous , de nombreux élus ont mis en place des actions . on va le voir en termes de mobilité en termes de chauffage . \n",
      "\n",
      "si vous voulez bien prendre place s' il vous plaît . vous êtes comme à l' école , comme quand vous étiez gamins . vous vous êtes mis en bas en haut , derrière , on va au dernier rang , ce n' est pas , ce n' est pas la meilleure formule . vous pouvez descendre plus bas , il y a de la place . nous allons démarrer notre animateur est là . \n",
      "\n",
      "bien , bonjour à toutes et à tous . bienvenue pour cette présentation des résultats deux mille seize de sopra steria . bienvenue aussi à tous ceux et toutes celles qui nous suivent à distance puisque je vous rappelle que cette réunion est webcast en direct et traduite en simultané , ce qui permettra à chacun qui suit cette réunion à distance de poser ses questions par écrit , et nous y répondrons à la fin de cette réunion . pour cette présentation . je serai accompagné détiennent du vigneron . \n",
      "\n",
      "nous avons \n",
      "\n",
      "ce sont des problématiques que nous avons depuis que nous on depuis plusieurs mois , voire plusieurs années et pour lesquelles nous n' avions pas trouvé de solution complètement satisfaisante . on savait faire avec ces irritants , mais on trouvait que ce n' était pas encore suffisant pour prendre la solution de l' époque n' était pas optimum . en fait , on s' est dit : puisque nous , on n' arrive pas à trouver en interne , nous n' avons pas réussi à trouver la solution malgré notre expertise , malgré le soutien de nos fournisseurs historiques avec qui on travaille depuis très longtemps , qui sont très compétents dans leur domaine . \n",
      "\n",
      "alain <unk> \n",
      "\n",
      "ainsi , si tout le monde veut bien s' asseoir , que l' on puisse commencer , c' est bon , tant mieux . \n",
      "\n",
      "vous . \n",
      "\n",
      "suis est venu entre la cnam de marseille vers d' autres missions . \n",
      "\n",
      "une communication claire et neutre . \n",
      "\n",
      "si tu veux bien être pédagogue c' est plutôt l' inverse , il nous dit fabien blagues onze heures . \n",
      "\n",
      "legs , merci de votre présence . nous ouvrons la séance statutaire , ainsi que celle de l' assemblée générale ordinaire de notre association et nous aurons un petit peu plus loin , un petit peu avant dix heures . nous espérons , puisque le congrès . \n",
      "\n",
      "je vais trouver des solutions finalement , à la fin du monde vous apporte son aide en faveur de la grande boîte . \n",
      "\n",
      "peter , notre assemblée générale statutaire , on commence à l' heure , presque à l' heure , d' abord pour ne pas pénaliser ceux qui sont à l' heure . les autres arriveront après . et puis il y a beaucoup d' une journée assez chargée . personnellement , je suis obligé de vous quitter à minuit moins car pour problème de santé et je laisserai mes vice-présidents finir l' après-midi pour notre congrès sur les grands thèmes qui pour l' instant on va commencer par l' assemblée générale statutaire . je vais demander à monsieur philippe postes le rapport moral . \n",
      "\n",
      "alors , alain . \n",
      "\n",
      "mesdames , messieurs , bonjour et bienvenue pour ce colloque aéroports et territoires , dernier acte de ces assises , entamé au mois de mars dernier . ce n' est sans doute pas un hasard si ces travaux se terminent par la performance au service des territoires . \n",
      "\n",
      "le langage , c' est quoi ? c' est retracé , on va dire les éléments marquants de la consommation de gaz sur les territoires de la région ile-de-france et les quelques projets significatifs sur le réseau de transport . \n",
      "\n",
      "en . \n",
      "\n",
      "mesdames , messieurs , chers actionnaires , bienvenue à l' assemblée générale mixte d' orange . j' ai le plaisir de vous retrouver pour ce rendez -vous essentiel pour votre entreprise , qui est toujours une occasion privilégiée pour moi-même et toute l' équipe de direction qui m' entoure , de vous présenter nos réalisations , nos projets et de répondre à vos questions . \n",
      "\n",
      "je vous remercie de votre attention . je vais faire quelques mots d' introduction . merci d' être ici avec nous . si vous voulez nous rejoindre . il y a beaucoup d' acteurs des travaux publics autour de nous . c' est un sujet qui peut les intéresser , puisqu ' on va vous faire une courte présentation sur sur la réglementation autour des projets d' urbanisme et notamment la nécessité de déclarer ces travaux . on pourra vous dire évidemment toute l' attention que grt gaz porte à ce sujet , mais je suis surtout très heureux d' accueillir monsieur bruneau qui est le président de l' observatoire francilien des risques travaux sur réseaux et qui va nous expliquer l' ensemble de cette problématique . je vais peut-être aussi laisser la parole à mon collègue pierre sroczynski qui peut-être me dire un mot . \n",
      "\n",
      "l' ensemble de mes collègues du conseil d' administration et de la direction générale . je suis très heureux de vous accueillir à cette réunion de l' assemblée générale annuelle . nous aurons l' occasion de vous présenter un point sur la gouvernance de l' entreprise , un point sur les résultats de l' année deux mille seize . \n",
      "\n",
      "merci de nous rejoindre le site de villepinte . quelques modifications d' horaires qui sont liées aux impératifs des uns et des autres au des transports et rouge que je vous propose que l' on rentre un peu plus de quinze maintenant et seize heures trente sur la tenue de cette assemblée générale . seize heures trente . je vois que tu veux bien . merci de votre soutien sur ce changement d' horaire . \n",
      "\n"
     ]
    }
   ],
   "source": [
    "for i, meeting in enumerate(meetings):\n",
    "    print(meetings[meeting]['final']['ctm'][0]['text'], \"\\n\")"
   ]
  },
  {
   "cell_type": "code",
   "execution_count": 24,
   "metadata": {},
   "outputs": [
    {
     "data": {
      "text/plain": [
       "'je vais trouver des solutions finalement , à la fin du monde vous apporte son aide en faveur de la grande boîte .'"
      ]
     },
     "execution_count": 24,
     "metadata": {},
     "output_type": "execute_result"
    }
   ],
   "source": []
  }
 ],
 "metadata": {
  "kernelspec": {
   "display_name": "venv",
   "language": "python",
   "name": "python3"
  },
  "language_info": {
   "codemirror_mode": {
    "name": "ipython",
    "version": 3
   },
   "file_extension": ".py",
   "mimetype": "text/x-python",
   "name": "python",
   "nbconvert_exporter": "python",
   "pygments_lexer": "ipython3",
   "version": "3.10.12"
  }
 },
 "nbformat": 4,
 "nbformat_minor": 2
}
