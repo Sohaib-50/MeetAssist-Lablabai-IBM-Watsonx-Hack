{
 "cells": [
  {
   "cell_type": "code",
   "execution_count": 3,
   "metadata": {},
   "outputs": [],
   "source": [
    "import pandas as pd"
   ]
  },
  {
   "cell_type": "code",
   "execution_count": 47,
   "metadata": {},
   "outputs": [
    {
     "name": "stdout",
     "output_type": "stream",
     "text": [
      "ep-11 \"I'll pour this pestilence into his ear. So will I make the net that will enmesh them all.\" It's an \n",
      "ep-113 From WBEZ Chicago and Public Radio International, it's This American Life. I'm Ira Glass. Every morn\n",
      "ep-120 So Viola disguises herself as a man, takes a job working for this guy, who she promptly falls in lov\n",
      "ep-164 I'm in the office of Dr. L.J. Drakovic, who examines dead bodies for the police in Pontiac, Michigan\n",
      "ep-171 As we head into the final days of this presidential race, consider this story. Matt Futterman was ru\n",
      "ep-177 When he was 15, Lee was living illegally in the United States. He'd come over from China, and he wor\n",
      "ep-195 WBEZ Chicago and Public Radio International, it's This American Life. I'm Ira Glass. I don't know if\n",
      "ep-219 Not long ago, Cory was driving home with his girlfriend, Dominique, from his job with the Chicago Tr\n",
      "ep-242 Here's the story the way we usually like it. There's this guy, and he's back behind enemy lines. May\n",
      "ep-258 It really is the damnedest thing. Chris will tell you that himself. When he was in the army, when he\n",
      "ep-270 In Eddie's family, there are lots of stories about his mom's aunt, Mary. Nobody wanted to cross her.\n",
      "ep-279 From WBEZ Chicago, it's This American life, distributed by Public Radio International. I'm Ira Glass\n",
      "ep-343 There's certain conversations that those of us who do not live on farms get into with people who do \n",
      "ep-355 So Adam, where are we? I recorded this at the Ritz Carlton in Lower Manhattan. It's a black tie dinn\n",
      "ep-382 Previously on This American Life. No income, no asset loans, that's a liar's loan. We are telling yo\n",
      "ep-403 Today we have this story for you about cars-- American cars. And like most stories about American ca\n",
      "ep-416 The US has been in Iraq for seven years and I realized the other day, when I heard this clip of tape\n",
      "ep-432 I was surprised this week during this interview I was doing, I sat down to talk to the guy-- Jim McM\n",
      "ep-437 When I sat down to interview this guy, Bill Tobin, he made this request that I don't think anybody's\n",
      "ep-456 One of our radio show's producers, Jonathan, went driving around after the snowstorm this week with \n",
      "ep-475 Josh Bearman heard this story as a kid. His dad is a physicist and told it to him. And it just stuck\n",
      "ep-489 This is Hannah. Oh, hi, Hannah. This is Sarah from This American Life. Hi, how are you? I'm good, th\n",
      "ep-493 It's been a week for looking at pictures, of the bombings in Boston, of course, the aftermath, the F\n",
      "ep-516 Elias stopped eating meat when he was three or four. His mom can't remember-- it's been so long. He'\n",
      "ep-522 Hey, everybody, Ira Glass here. So we've been working on today's episode of the radio show for a whi\n",
      "ep-524 One of the producers of our radio program, Sean Cole, used to live in Toronto. And he went out to ba\n",
      "ep-527 From WBEZ Chicago and Public Radio International, it's This American Life. And I'm not Ira Glass. I'\n",
      "ep-548 Hey there, everybody. If you're listening on our podcast or at the internet, there are words in this\n",
      "ep-558 Watching officials from international soccer this week on the news, it was hard not to think, wow, y\n",
      "ep-619 I have no idea what gave me the confidence to start performing magic shows for money when I was 12. \n",
      "ep-635 From WBEZ Chicago, it's This American Life. I'm Ira Glass. I think the thing that gets to me the mos\n",
      "ep-648 So, you may have heard that last week, Starbucks closed down all of their US stores so they could do\n",
      "ep-665 At one level, my Grandma Frieda's college records are utterly ordinary-- don't tell much of a story.\n",
      "ep-682 From WBEZ Chicago, it's This American Life. I'm Ira Glass. There's this kind of therapy for trauma, \n",
      "ep-683 A quick warning-- there are curse words that are unbeeped in today's episode of the show. If you pre\n",
      "ep-78 OK three boys aged 13, 15 and 16. All three chose to appear with fake names on this radio program. A\n"
     ]
    }
   ],
   "source": [
    "import json\n",
    "\n",
    "with open('Data/American-Life-Podcast-Transcripts/test-transcripts-aligned.json') as f:\n",
    "    json_data = json.load(f)\n",
    "\n",
    "json_data.keys(), len(json_data)\n",
    "\n",
    "for episode in json_data:\n",
    "    transcript = \" \".join([x['utterance'] for x in json_data[episode]])\n",
    "    print(episode, transcript[:100])\n"
   ]
  },
  {
   "cell_type": "code",
   "execution_count": 37,
   "metadata": {},
   "outputs": [
    {
     "name": "stdout",
     "output_type": "stream",
     "text": [
      "\"I'll pour this pestilence into his ear. So will I make the net that will enmesh them all.\" It's an adult, Iago, who says that in Othello. And it's grownups that Machiavelli was writing about when he wrote The Prince, his book about manipulating others and seizing power. Notice he titled the book The Prince, not The Little Prince. The Little Prince is actually by somebody else, if you don't know that.\n"
     ]
    }
   ],
   "source": [
    "ep_11 = json_data['ep-11']\n",
    "for x in ep_11:\n",
    "    print(x['utterance'])\n",
    "    break\n",
    "ep_11_transcript = \" \".join([x['utterance'] for x in ep_11])"
   ]
  },
  {
   "cell_type": "code",
   "execution_count": null,
   "metadata": {},
   "outputs": [],
   "source": [
    "# write all transcripts to a json file\n",
    "with open(\"Data/transcripts.json\", \"r+\") as f:\n",
    "    data = eval(f.read())\n",
    "\n",
    "    for episode in json_data:\n",
    "        transcript = \" \".join([x['utterance'] for x in json_data[episode]])\n",
    "        data[\"transcripts\"].append(transcript)\n",
    "\n",
    "    f.seek(0)\n",
    "    f.write(json.dumps(data))\n",
    "    f.truncate()\n"
   ]
  }
 ],
 "metadata": {
  "kernelspec": {
   "display_name": "venv",
   "language": "python",
   "name": "python3"
  },
  "language_info": {
   "codemirror_mode": {
    "name": "ipython",
    "version": 3
   },
   "file_extension": ".py",
   "mimetype": "text/x-python",
   "name": "python",
   "nbconvert_exporter": "python",
   "pygments_lexer": "ipython3",
   "version": "3.10.12"
  }
 },
 "nbformat": 4,
 "nbformat_minor": 2
}
